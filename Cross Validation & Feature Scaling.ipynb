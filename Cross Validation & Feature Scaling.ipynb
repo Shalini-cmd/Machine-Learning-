{
 "cells": [
  {
   "cell_type": "markdown",
   "metadata": {},
   "source": [
    "## Importing essential libraries"
   ]
  },
  {
   "cell_type": "code",
   "execution_count": 865,
   "metadata": {},
   "outputs": [],
   "source": [
    "import numpy as np\n",
    "import pandas as pd\n",
    "import scipy as sp\n",
    "import os\n",
    "import seaborn as sns\n",
    "import matplotlib.pyplot as plt\n",
    "\n",
    "from sklearn.model_selection import train_test_split\n",
    "from sklearn.feature_selection import RFE\n",
    "from sklearn import metrics\n",
    "from sklearn.metrics import confusion_matrix\n",
    "#from imblearn.over_sampling import SMOTE"
   ]
  },
  {
   "cell_type": "markdown",
   "metadata": {},
   "source": [
    "## Reading the Data"
   ]
  },
  {
   "cell_type": "code",
   "execution_count": 866,
   "metadata": {},
   "outputs": [
    {
     "data": {
      "text/plain": [
       "(32561, 15)"
      ]
     },
     "execution_count": 866,
     "metadata": {},
     "output_type": "execute_result"
    }
   ],
   "source": [
    "income = pd.read_csv(\"income_data.csv\", sep=r'\\s*,\\s*', engine='python')\n",
    "income.head()\n",
    "#QC:Checking number of rows and columns \n",
    "type(income)\n",
    "income.shape"
   ]
  },
  {
   "cell_type": "code",
   "execution_count": 867,
   "metadata": {},
   "outputs": [
    {
     "data": {
      "text/plain": [
       "age                  0\n",
       "workclass         1836\n",
       "fnlwgt               0\n",
       "education            0\n",
       "education-num        0\n",
       "marital-status       0\n",
       "occupation        1843\n",
       "relationship         0\n",
       "race                 0\n",
       "sex                  0\n",
       "capital-gain         0\n",
       "capital-loss         0\n",
       "hours-per-week       0\n",
       "native-country     583\n",
       "income               0\n",
       "dtype: int64"
      ]
     },
     "execution_count": 867,
     "metadata": {},
     "output_type": "execute_result"
    }
   ],
   "source": [
    "#Checking for null values\n",
    "income.isnull()\n",
    "#Replacing missing values with numpy NaN values  \n",
    "income.replace('', np.nan, inplace=True)\n",
    "income.replace('?', np.nan, inplace=True)\n",
    "#Columns with null/NaN values\n",
    "income.isnull().any()\n",
    "#summary of missing values\n",
    "income.isna().sum()"
   ]
  },
  {
   "cell_type": "code",
   "execution_count": 868,
   "metadata": {},
   "outputs": [
    {
     "data": {
      "text/html": [
       "<div>\n",
       "<style scoped>\n",
       "    .dataframe tbody tr th:only-of-type {\n",
       "        vertical-align: middle;\n",
       "    }\n",
       "\n",
       "    .dataframe tbody tr th {\n",
       "        vertical-align: top;\n",
       "    }\n",
       "\n",
       "    .dataframe thead th {\n",
       "        text-align: right;\n",
       "    }\n",
       "</style>\n",
       "<table border=\"1\" class=\"dataframe\">\n",
       "  <thead>\n",
       "    <tr style=\"text-align: right;\">\n",
       "      <th></th>\n",
       "      <th>age</th>\n",
       "      <th>workclass</th>\n",
       "      <th>fnlwgt</th>\n",
       "      <th>education</th>\n",
       "      <th>education-num</th>\n",
       "      <th>marital-status</th>\n",
       "      <th>occupation</th>\n",
       "      <th>relationship</th>\n",
       "      <th>race</th>\n",
       "      <th>sex</th>\n",
       "      <th>capital-gain</th>\n",
       "      <th>capital-loss</th>\n",
       "      <th>hours-per-week</th>\n",
       "      <th>native-country</th>\n",
       "      <th>income</th>\n",
       "    </tr>\n",
       "  </thead>\n",
       "  <tbody>\n",
       "    <tr>\n",
       "      <th>0</th>\n",
       "      <td>39</td>\n",
       "      <td>State-gov</td>\n",
       "      <td>77516</td>\n",
       "      <td>Bachelors</td>\n",
       "      <td>13</td>\n",
       "      <td>Never-married</td>\n",
       "      <td>Adm-clerical</td>\n",
       "      <td>Not-in-family</td>\n",
       "      <td>White</td>\n",
       "      <td>Male</td>\n",
       "      <td>2174</td>\n",
       "      <td>0</td>\n",
       "      <td>40</td>\n",
       "      <td>United-States</td>\n",
       "      <td>&lt;=50K</td>\n",
       "    </tr>\n",
       "    <tr>\n",
       "      <th>1</th>\n",
       "      <td>50</td>\n",
       "      <td>Self-emp-not-inc</td>\n",
       "      <td>83311</td>\n",
       "      <td>Bachelors</td>\n",
       "      <td>13</td>\n",
       "      <td>Married-civ-spouse</td>\n",
       "      <td>Exec-managerial</td>\n",
       "      <td>Husband</td>\n",
       "      <td>White</td>\n",
       "      <td>Male</td>\n",
       "      <td>0</td>\n",
       "      <td>0</td>\n",
       "      <td>13</td>\n",
       "      <td>United-States</td>\n",
       "      <td>&lt;=50K</td>\n",
       "    </tr>\n",
       "    <tr>\n",
       "      <th>2</th>\n",
       "      <td>38</td>\n",
       "      <td>Private</td>\n",
       "      <td>215646</td>\n",
       "      <td>HS-grad</td>\n",
       "      <td>9</td>\n",
       "      <td>Divorced</td>\n",
       "      <td>Handlers-cleaners</td>\n",
       "      <td>Not-in-family</td>\n",
       "      <td>White</td>\n",
       "      <td>Male</td>\n",
       "      <td>0</td>\n",
       "      <td>0</td>\n",
       "      <td>40</td>\n",
       "      <td>United-States</td>\n",
       "      <td>&lt;=50K</td>\n",
       "    </tr>\n",
       "    <tr>\n",
       "      <th>3</th>\n",
       "      <td>53</td>\n",
       "      <td>Private</td>\n",
       "      <td>234721</td>\n",
       "      <td>11th</td>\n",
       "      <td>7</td>\n",
       "      <td>Married-civ-spouse</td>\n",
       "      <td>Handlers-cleaners</td>\n",
       "      <td>Husband</td>\n",
       "      <td>Black</td>\n",
       "      <td>Male</td>\n",
       "      <td>0</td>\n",
       "      <td>0</td>\n",
       "      <td>40</td>\n",
       "      <td>United-States</td>\n",
       "      <td>&lt;=50K</td>\n",
       "    </tr>\n",
       "    <tr>\n",
       "      <th>4</th>\n",
       "      <td>28</td>\n",
       "      <td>Private</td>\n",
       "      <td>338409</td>\n",
       "      <td>Bachelors</td>\n",
       "      <td>13</td>\n",
       "      <td>Married-civ-spouse</td>\n",
       "      <td>Prof-specialty</td>\n",
       "      <td>Wife</td>\n",
       "      <td>Black</td>\n",
       "      <td>Female</td>\n",
       "      <td>0</td>\n",
       "      <td>0</td>\n",
       "      <td>40</td>\n",
       "      <td>Cuba</td>\n",
       "      <td>&lt;=50K</td>\n",
       "    </tr>\n",
       "  </tbody>\n",
       "</table>\n",
       "</div>"
      ],
      "text/plain": [
       "   age         workclass  fnlwgt  education  education-num  \\\n",
       "0   39         State-gov   77516  Bachelors             13   \n",
       "1   50  Self-emp-not-inc   83311  Bachelors             13   \n",
       "2   38           Private  215646    HS-grad              9   \n",
       "3   53           Private  234721       11th              7   \n",
       "4   28           Private  338409  Bachelors             13   \n",
       "\n",
       "       marital-status         occupation   relationship   race     sex  \\\n",
       "0       Never-married       Adm-clerical  Not-in-family  White    Male   \n",
       "1  Married-civ-spouse    Exec-managerial        Husband  White    Male   \n",
       "2            Divorced  Handlers-cleaners  Not-in-family  White    Male   \n",
       "3  Married-civ-spouse  Handlers-cleaners        Husband  Black    Male   \n",
       "4  Married-civ-spouse     Prof-specialty           Wife  Black  Female   \n",
       "\n",
       "   capital-gain  capital-loss  hours-per-week native-country income  \n",
       "0          2174             0              40  United-States  <=50K  \n",
       "1             0             0              13  United-States  <=50K  \n",
       "2             0             0              40  United-States  <=50K  \n",
       "3             0             0              40  United-States  <=50K  \n",
       "4             0             0              40           Cuba  <=50K  "
      ]
     },
     "execution_count": 868,
     "metadata": {},
     "output_type": "execute_result"
    }
   ],
   "source": [
    "#trim whitespaces if any for columns of type string\n",
    "income_trimmed = income.apply(lambda x: x.str.strip() if x.dtype == \"object\" else x)\n",
    "income_trimmed.head()"
   ]
  },
  {
   "cell_type": "code",
   "execution_count": 869,
   "metadata": {},
   "outputs": [
    {
     "data": {
      "text/html": [
       "<div>\n",
       "<style scoped>\n",
       "    .dataframe tbody tr th:only-of-type {\n",
       "        vertical-align: middle;\n",
       "    }\n",
       "\n",
       "    .dataframe tbody tr th {\n",
       "        vertical-align: top;\n",
       "    }\n",
       "\n",
       "    .dataframe thead th {\n",
       "        text-align: right;\n",
       "    }\n",
       "</style>\n",
       "<table border=\"1\" class=\"dataframe\">\n",
       "  <thead>\n",
       "    <tr style=\"text-align: right;\">\n",
       "      <th></th>\n",
       "      <th>age</th>\n",
       "      <th>fnlwgt</th>\n",
       "      <th>education-num</th>\n",
       "      <th>capital-gain</th>\n",
       "      <th>capital-loss</th>\n",
       "      <th>hours-per-week</th>\n",
       "    </tr>\n",
       "  </thead>\n",
       "  <tbody>\n",
       "    <tr>\n",
       "      <th>count</th>\n",
       "      <td>32561.000000</td>\n",
       "      <td>3.256100e+04</td>\n",
       "      <td>32561.000000</td>\n",
       "      <td>32561.000000</td>\n",
       "      <td>32561.000000</td>\n",
       "      <td>32561.000000</td>\n",
       "    </tr>\n",
       "    <tr>\n",
       "      <th>mean</th>\n",
       "      <td>38.581647</td>\n",
       "      <td>1.897784e+05</td>\n",
       "      <td>10.080679</td>\n",
       "      <td>1077.648844</td>\n",
       "      <td>87.303830</td>\n",
       "      <td>40.437456</td>\n",
       "    </tr>\n",
       "    <tr>\n",
       "      <th>std</th>\n",
       "      <td>13.640433</td>\n",
       "      <td>1.055500e+05</td>\n",
       "      <td>2.572720</td>\n",
       "      <td>7385.292085</td>\n",
       "      <td>402.960219</td>\n",
       "      <td>12.347429</td>\n",
       "    </tr>\n",
       "    <tr>\n",
       "      <th>min</th>\n",
       "      <td>17.000000</td>\n",
       "      <td>1.228500e+04</td>\n",
       "      <td>1.000000</td>\n",
       "      <td>0.000000</td>\n",
       "      <td>0.000000</td>\n",
       "      <td>1.000000</td>\n",
       "    </tr>\n",
       "    <tr>\n",
       "      <th>25%</th>\n",
       "      <td>28.000000</td>\n",
       "      <td>1.178270e+05</td>\n",
       "      <td>9.000000</td>\n",
       "      <td>0.000000</td>\n",
       "      <td>0.000000</td>\n",
       "      <td>40.000000</td>\n",
       "    </tr>\n",
       "    <tr>\n",
       "      <th>50%</th>\n",
       "      <td>37.000000</td>\n",
       "      <td>1.783560e+05</td>\n",
       "      <td>10.000000</td>\n",
       "      <td>0.000000</td>\n",
       "      <td>0.000000</td>\n",
       "      <td>40.000000</td>\n",
       "    </tr>\n",
       "    <tr>\n",
       "      <th>75%</th>\n",
       "      <td>48.000000</td>\n",
       "      <td>2.370510e+05</td>\n",
       "      <td>12.000000</td>\n",
       "      <td>0.000000</td>\n",
       "      <td>0.000000</td>\n",
       "      <td>45.000000</td>\n",
       "    </tr>\n",
       "    <tr>\n",
       "      <th>max</th>\n",
       "      <td>90.000000</td>\n",
       "      <td>1.484705e+06</td>\n",
       "      <td>16.000000</td>\n",
       "      <td>99999.000000</td>\n",
       "      <td>4356.000000</td>\n",
       "      <td>99.000000</td>\n",
       "    </tr>\n",
       "  </tbody>\n",
       "</table>\n",
       "</div>"
      ],
      "text/plain": [
       "                age        fnlwgt  education-num  capital-gain  capital-loss  \\\n",
       "count  32561.000000  3.256100e+04   32561.000000  32561.000000  32561.000000   \n",
       "mean      38.581647  1.897784e+05      10.080679   1077.648844     87.303830   \n",
       "std       13.640433  1.055500e+05       2.572720   7385.292085    402.960219   \n",
       "min       17.000000  1.228500e+04       1.000000      0.000000      0.000000   \n",
       "25%       28.000000  1.178270e+05       9.000000      0.000000      0.000000   \n",
       "50%       37.000000  1.783560e+05      10.000000      0.000000      0.000000   \n",
       "75%       48.000000  2.370510e+05      12.000000      0.000000      0.000000   \n",
       "max       90.000000  1.484705e+06      16.000000  99999.000000   4356.000000   \n",
       "\n",
       "       hours-per-week  \n",
       "count    32561.000000  \n",
       "mean        40.437456  \n",
       "std         12.347429  \n",
       "min          1.000000  \n",
       "25%         40.000000  \n",
       "50%         40.000000  \n",
       "75%         45.000000  \n",
       "max         99.000000  "
      ]
     },
     "execution_count": 869,
     "metadata": {},
     "output_type": "execute_result"
    }
   ],
   "source": [
    "income.describe()"
   ]
  },
  {
   "cell_type": "code",
   "execution_count": 870,
   "metadata": {},
   "outputs": [
    {
     "data": {
      "text/plain": [
       "(32537, 15)"
      ]
     },
     "execution_count": 870,
     "metadata": {},
     "output_type": "execute_result"
    }
   ],
   "source": [
    "#Looking for duplicates in the data\n",
    "income_trimmed.duplicated().sum()\n",
    "#Removing duplicate entries from our data\n",
    "income_c =income_trimmed.drop_duplicates()\n",
    "income_c.shape"
   ]
  },
  {
   "cell_type": "markdown",
   "metadata": {},
   "source": [
    "## Data Pre-Processing & EDA"
   ]
  },
  {
   "cell_type": "code",
   "execution_count": 871,
   "metadata": {},
   "outputs": [
    {
     "data": {
      "text/plain": [
       "age               0\n",
       "workclass         0\n",
       "fnlwgt            0\n",
       "education         0\n",
       "education-num     0\n",
       "marital-status    0\n",
       "occupation        0\n",
       "relationship      0\n",
       "race              0\n",
       "sex               0\n",
       "capital-gain      0\n",
       "capital-loss      0\n",
       "hours-per-week    0\n",
       "native-country    0\n",
       "income            0\n",
       "dtype: int64"
      ]
     },
     "execution_count": 871,
     "metadata": {},
     "output_type": "execute_result"
    }
   ],
   "source": [
    "#Handling Nulls by replacing them with most frequent occurrence\n",
    "#~6% of the rows collectively have incomplete data \n",
    "index=income_c.index\n",
    "\n",
    "from sklearn.impute import SimpleImputer as Imputer\n",
    "#creating an object for SimpleImputer\n",
    "imp_freq=Imputer(missing_values=np.nan,strategy='most_frequent')\n",
    "income_c=pd.DataFrame(imp_freq.fit_transform(income_c))\n",
    "income_c.columns = income.columns\n",
    "income_c.index = index\n",
    "\n",
    "#Check if imputation worked\n",
    "income_c.isna().sum()"
   ]
  },
  {
   "cell_type": "code",
   "execution_count": 872,
   "metadata": {},
   "outputs": [
    {
     "data": {
      "text/plain": [
       "array(['Bachelors', 'HS-grad', 'Not-HS-Grad', 'Masters', 'Some-college',\n",
       "       'Assoc-acdm', 'Assoc-voc', 'Doctorate', 'Prof-school'],\n",
       "      dtype=object)"
      ]
     },
     "execution_count": 872,
     "metadata": {},
     "output_type": "execute_result"
    }
   ],
   "source": [
    "#merging levels of education\n",
    "income_c['education']=np.where(income_c['education'] =='11th', 'Not-HS-Grad', income_c['education'])\n",
    "income_c['education']=np.where(income_c['education'] =='9th', 'Not-HS-Grad', income_c['education'])\n",
    "income_c['education']=np.where(income_c['education'] =='7th-8th', 'Not-HS-Grad', income_c['education'])\n",
    "income_c['education']=np.where(income_c['education'] =='5th-6th', 'Not-HS-Grad', income_c['education'])\n",
    "income_c['education']=np.where(income_c['education'] =='10th', 'Not-HS-Grad', income_c['education'])\n",
    "income_c['education']=np.where(income_c['education'] =='1st-4th', 'Not-HS-Grad', income_c['education'])\n",
    "income_c['education']=np.where(income_c['education'] =='Preschool', 'Not-HS-Grad', income_c['education'])\n",
    "income_c['education']=np.where(income_c['education'] =='12th', 'Not-HS-Grad', income_c['education'])\n",
    "\n",
    "#unique levels of education\n",
    "income_c['education'].unique()"
   ]
  },
  {
   "cell_type": "code",
   "execution_count": 873,
   "metadata": {},
   "outputs": [
    {
     "data": {
      "text/plain": [
       "array([6, 2, 1, 7, 3, 5, 4, 9, 8], dtype=int64)"
      ]
     },
     "execution_count": 873,
     "metadata": {},
     "output_type": "execute_result"
    }
   ],
   "source": [
    "#modify education_num in proportion to education\n",
    "# Create mapper\n",
    "scale_mapper = {'Not-HS-Grad':1, \n",
    "                'HS-grad':2,\n",
    "                'Some-college':3,\n",
    "               'Assoc-voc':4,\n",
    "               'Assoc-acdm':5,\n",
    "               'Bachelors':6,\n",
    "               'Masters':7,\n",
    "               'Prof-school':8,\n",
    "               'Doctorate':9}\n",
    "income_c['education']=income_c['education'].replace(scale_mapper)\n",
    "income_c['education'].unique()"
   ]
  },
  {
   "cell_type": "code",
   "execution_count": 874,
   "metadata": {},
   "outputs": [
    {
     "data": {
      "text/plain": [
       "education  education-num\n",
       "1          1                   50\n",
       "           2                  166\n",
       "           3                  332\n",
       "           4                  645\n",
       "           5                  514\n",
       "           6                  933\n",
       "           7                 1175\n",
       "           8                  433\n",
       "2          9                10494\n",
       "3          10                7282\n",
       "4          11                1382\n",
       "5          12                1067\n",
       "6          13                5353\n",
       "7          14                1722\n",
       "8          15                 576\n",
       "9          16                 413\n",
       "dtype: int64"
      ]
     },
     "execution_count": 874,
     "metadata": {},
     "output_type": "execute_result"
    }
   ],
   "source": [
    "#1:1 mapping between columns 'education-num' and 'education' in the original dataset\n",
    "#education_num being a quantitative variable will be more valuable in our model than the categorical variable as it has order \n",
    "#based on education qualification\n",
    "income_c.groupby(['education','education-num']).size()"
   ]
  },
  {
   "cell_type": "code",
   "execution_count": 875,
   "metadata": {},
   "outputs": [
    {
     "data": {
      "text/plain": [
       "Text(0, 0.5, '# of records')"
      ]
     },
     "execution_count": 875,
     "metadata": {},
     "output_type": "execute_result"
    },
    {
     "data": {
      "image/png": "[encoded data removed]",
      "text/plain": [
       "<Figure size 432x288 with 1 Axes>"
      ]
     },
     "metadata": {
      "needs_background": "light"
     },
     "output_type": "display_data"
    }
   ],
   "source": [
    "%matplotlib inline\n",
    "pd.crosstab(income_c['relationship'],income_fact['income']).plot(kind='bar')\n",
    "plt.title('Income against Education')\n",
    "plt.xlabel('Education')\n",
    "plt.ylabel('# of records')"
   ]
  },
  {
   "cell_type": "code",
   "execution_count": 876,
   "metadata": {},
   "outputs": [],
   "source": [
    "del income_c['education-num']"
   ]
  },
  {
   "cell_type": "code",
   "execution_count": 877,
   "metadata": {},
   "outputs": [
    {
     "data": {
      "text/plain": [
       "Text(0, 0.5, 'High Salary Proportion')"
      ]
     },
     "execution_count": 877,
     "metadata": {},
     "output_type": "execute_result"
    },
    {
     "data": {
      "image/png": "[encoded data removed]",
      "text/plain": [
       "<Figure size 432x288 with 1 Axes>"
      ]
     },
     "metadata": {
      "needs_background": "light"
     },
     "output_type": "display_data"
    },
    {
     "data": {
      "image/png": "[encoded data removed]",
      "text/plain": [
       "<Figure size 432x288 with 1 Axes>"
      ]
     },
     "metadata": {
      "needs_background": "light"
     },
     "output_type": "display_data"
    },
    {
     "data": {
      "image/png": "[encoded data removed]",
      "text/plain": [
       "<Figure size 432x288 with 1 Axes>"
      ]
     },
     "metadata": {
      "needs_background": "light"
     },
     "output_type": "display_data"
    },
    {
     "data": {
      "image/png": "[encoded data removed]",
      "text/plain": [
       "<Figure size 432x288 with 1 Axes>"
      ]
     },
     "metadata": {
      "needs_background": "light"
     },
     "output_type": "display_data"
    }
   ],
   "source": [
    "#determining if a variable is good predictor of income through plots\n",
    "%matplotlib inline\n",
    "pd.crosstab(income_c['occupation'],income_c['income']).plot(kind='bar')\n",
    "plt.title('Income against Job Title')\n",
    "plt.xlabel('Job')\n",
    "plt.ylabel('High Salary')\n",
    "\n",
    "pd.crosstab(income_c['education'],income_c['income']).plot(kind='bar')\n",
    "plt.title('Income against Education')\n",
    "plt.xlabel('Education')\n",
    "plt.ylabel('High Salary')\n",
    "\n",
    "table=pd.crosstab(income_c['sex'],income_c['income'])\n",
    "table.div(table.sum(1).astype(float), axis=0).plot(kind='bar',stacked=True)\n",
    "plt.title('Income against Sex')\n",
    "plt.xlabel('Sex')\n",
    "plt.ylabel('High Salary Proportion')\n",
    "\n",
    "table1=pd.crosstab(income_c['race'],income_c['income'])\n",
    "table1.div(table1.sum(1).astype(float), axis=0).plot(kind='bar',stacked=True)\n",
    "plt.title('Income against Race')\n",
    "plt.xlabel('Race')\n",
    "plt.ylabel('High Salary Proportion')"
   ]
  },
  {
   "cell_type": "code",
   "execution_count": 766,
   "metadata": {},
   "outputs": [
    {
     "name": "stdout",
     "output_type": "stream",
     "text": [
      "<=50K    24698\n",
      ">50K      7839\n",
      "Name: income, dtype: int64\n",
      "<=50K    75.91\n",
      ">50K     24.09\n",
      "Name: income, dtype: float64%\n"
     ]
    }
   ],
   "source": [
    "#checking for class imbalance\n",
    "print(income_c['income'].value_counts())\n",
    "print(str(round(income_c['income'].value_counts()*100/income_c.shape[0],2)) + '%')"
   ]
  },
  {
   "cell_type": "code",
   "execution_count": 767,
   "metadata": {},
   "outputs": [
    {
     "data": {
      "text/plain": [
       "Text(0, 0.5, '# of records')"
      ]
     },
     "execution_count": 767,
     "metadata": {},
     "output_type": "execute_result"
    },
    {
     "data": {
      "image/png": "[encoded data removed]",
      "text/plain": [
       "<Figure size 432x288 with 1 Axes>"
      ]
     },
     "metadata": {
      "needs_background": "light"
     },
     "output_type": "display_data"
    }
   ],
   "source": [
    "#determining if a variable is good predictor of income through plots\n",
    "%matplotlib inline\n",
    "pd.crosstab(income_c['native-country'],income_fact['income']).plot(kind='bar')\n",
    "plt.title('Income against Native Country')\n",
    "plt.xlabel('Native Country')\n",
    "plt.ylabel('# of records')"
   ]
  },
  {
   "cell_type": "code",
   "execution_count": 768,
   "metadata": {},
   "outputs": [
    {
     "data": {
      "text/plain": [
       "array(['United-States', 'Rest'], dtype=object)"
      ]
     },
     "execution_count": 768,
     "metadata": {},
     "output_type": "execute_result"
    }
   ],
   "source": [
    "#since 92% of the records have US as native, adding rest countries into one category called 'Rest'\n",
    "income_c.loc[income_c['native-country']!='United-States', 'native-country'] = 'Rest'\n",
    "income_c['native-country'].unique()"
   ]
  },
  {
   "cell_type": "code",
   "execution_count": 769,
   "metadata": {},
   "outputs": [
    {
     "data": {
      "text/plain": [
       "array(['Adm-clerical', 'Exec-managerial', 'Handlers-cleaners',\n",
       "       'Prof-specialty', 'Other-service', 'Sales', 'Craft-repair',\n",
       "       'Transport-moving', 'Farming-fishing', 'Machine-op-inspct',\n",
       "       'Tech-support'], dtype=object)"
      ]
     },
     "execution_count": 769,
     "metadata": {},
     "output_type": "execute_result"
    }
   ],
   "source": [
    "#Private house service and Protective service was below 1%, hence merged with other services\n",
    "income_c.loc[income_c['occupation']=='Priv-house-serv', 'occupation'] = 'Other-service'\n",
    "income_c.loc[income_c['occupation']=='Protective-serv', 'occupation'] = 'Other-service'\n",
    "income_c.loc[income_c['occupation']=='Armed-Forces', 'occupation'] = 'Other-service'\n",
    "income_c['occupation'].unique()"
   ]
  },
  {
   "cell_type": "code",
   "execution_count": 770,
   "metadata": {},
   "outputs": [
    {
     "name": "stdout",
     "output_type": "stream",
     "text": [
      "Prof-specialty       18.38\n",
      "Other-service        12.59\n",
      "Craft-repair         12.58\n",
      "Exec-managerial      12.49\n",
      "Adm-clerical         11.58\n",
      "Sales                11.22\n",
      "Machine-op-inspct     6.15\n",
      "Transport-moving      4.91\n",
      "Handlers-cleaners     4.21\n",
      "Farming-fishing       3.05\n",
      "Tech-support          2.85\n",
      "Name: occupation, dtype: float64%\n"
     ]
    }
   ],
   "source": [
    "print(str(round(income_c['occupation'].value_counts()*100/income_c.shape[0],2)) + '%')"
   ]
  },
  {
   "cell_type": "code",
   "execution_count": 771,
   "metadata": {},
   "outputs": [
    {
     "name": "stdout",
     "output_type": "stream",
     "text": [
      "White                 85.43\n",
      "Black                  9.60\n",
      "Asian-Pac-Islander     3.19\n",
      "Amer-Indian-Eskimo     0.96\n",
      "Other                  0.83\n",
      "Name: race, dtype: float64%\n"
     ]
    }
   ],
   "source": [
    "print(str(round(income_c['race'].value_counts()*100/income_c.shape[0],2)) + '%')"
   ]
  },
  {
   "cell_type": "code",
   "execution_count": 772,
   "metadata": {},
   "outputs": [
    {
     "name": "stdout",
     "output_type": "stream",
     "text": [
      "White                 85.43\n",
      "Black                  9.60\n",
      "Asian-Pac-Islander     3.19\n",
      "Other                  1.79\n",
      "Name: race, dtype: float64%\n"
     ]
    }
   ],
   "source": [
    "#American-Indian-Eskimo and Other were below 1%, hence merged with other\n",
    "income_c.loc[income_c['race']=='Amer-Indian-Eskimo', 'race'] = 'Other'\n",
    "income_c['race'].unique()\n",
    "print(str(round(income_c['race'].value_counts()*100/income_c.shape[0],2)) + '%')"
   ]
  },
  {
   "cell_type": "code",
   "execution_count": 773,
   "metadata": {},
   "outputs": [
    {
     "data": {
      "text/plain": [
       "Text(0, 0.5, '# of records')"
      ]
     },
     "execution_count": 773,
     "metadata": {},
     "output_type": "execute_result"
    },
    {
     "data": {
      "image/png": "[encoded data removed]",
      "text/plain": [
       "<Figure size 432x288 with 1 Axes>"
      ]
     },
     "metadata": {
      "needs_background": "light"
     },
     "output_type": "display_data"
    }
   ],
   "source": [
    "#determining if a variable is good predictor of income through plots\n",
    "%matplotlib inline\n",
    "pd.crosstab(income_c['marital-status'],income_fact['income']).plot(kind='bar')\n",
    "plt.title('Income against Marital Status')\n",
    "plt.xlabel('Marital Status')\n",
    "plt.ylabel('# of records')"
   ]
  },
  {
   "cell_type": "code",
   "execution_count": 774,
   "metadata": {},
   "outputs": [
    {
     "data": {
      "text/plain": [
       "array(['Never-married', 'Married', 'Divorced', 'Separated', 'Widowed'],\n",
       "      dtype=object)"
      ]
     },
     "execution_count": 774,
     "metadata": {},
     "output_type": "execute_result"
    }
   ],
   "source": [
    "#all married-regardless of absentee spouse(1.28%), Af-spouse(0.07%), Civ-spouse can be merged into one -married\n",
    "#Grouping within married-spouse would hardly help explain variation due to sparse presence of 2 of the 3 groups\n",
    "income_c.loc[income_c['marital-status']=='Married-AF-spouse', 'marital-status'] = 'Married'\n",
    "income_c.loc[income_c['marital-status']=='Married-spouse-absent', 'marital-status'] = 'Married'\n",
    "income_c.loc[income_c['marital-status']=='Married-civ-spouse', 'marital-status'] = 'Married'\n",
    "income_c['marital-status'].unique()"
   ]
  },
  {
   "cell_type": "code",
   "execution_count": 775,
   "metadata": {},
   "outputs": [
    {
     "name": "stdout",
     "output_type": "stream",
     "text": [
      "Married          47.36\n",
      "Never-married    32.78\n",
      "Divorced         13.65\n",
      "Separated         3.15\n",
      "Widowed           3.05\n",
      "Name: marital-status, dtype: float64%\n",
      "Private             75.33\n",
      "Self-emp-not-inc     7.81\n",
      "Local-gov            6.43\n",
      "State-gov            3.99\n",
      "Self-emp-inc         3.43\n",
      "Federal-gov          2.95\n",
      "Without-pay          0.04\n",
      "Never-worked         0.02\n",
      "Name: workclass, dtype: float64%\n"
     ]
    }
   ],
   "source": [
    "print(str(round(income_c['marital-status'].value_counts()*100/income_c.shape[0],2)) + '%')\n",
    "print(str(round(income_c['workclass'].value_counts()*100/income_c.shape[0],2)) + '%')"
   ]
  },
  {
   "cell_type": "code",
   "execution_count": 776,
   "metadata": {},
   "outputs": [
    {
     "data": {
      "text/plain": [
       "Text(0, 0.5, '# of records')"
      ]
     },
     "execution_count": 776,
     "metadata": {},
     "output_type": "execute_result"
    },
    {
     "data": {
      "image/png": "[encoded data removed]",
      "text/plain": [
       "<Figure size 432x288 with 1 Axes>"
      ]
     },
     "metadata": {
      "needs_background": "light"
     },
     "output_type": "display_data"
    }
   ],
   "source": [
    "%matplotlib inline\n",
    "pd.crosstab(income_c['relationship'],income_fact['income']).plot(kind='bar')\n",
    "plt.title('Income against Work Class')\n",
    "plt.xlabel('Work-class')\n",
    "plt.ylabel('# of records')"
   ]
  },
  {
   "cell_type": "code",
   "execution_count": 777,
   "metadata": {},
   "outputs": [
    {
     "data": {
      "text/plain": [
       "array(['State-gov', 'Self-emp-not-inc', 'Private', 'Federal-gov',\n",
       "       'Local-gov', 'Self-emp-inc', 'No Pay/Job'], dtype=object)"
      ]
     },
     "execution_count": 777,
     "metadata": {},
     "output_type": "execute_result"
    }
   ],
   "source": [
    "#although distribution of private is dominating but behavior across other types is varying\n",
    "#merged never worked and no pay dut to similar income status\n",
    "\n",
    "income_c.loc[income_c['workclass']=='Without-pay', 'workclass'] = 'No Pay/Job'\n",
    "income_c.loc[income_c['workclass']=='Never-worked', 'workclass'] = 'No Pay/Job'\n",
    "income_c['workclass'].unique()"
   ]
  },
  {
   "cell_type": "code",
   "execution_count": 808,
   "metadata": {},
   "outputs": [
    {
     "data": {
      "text/plain": [
       "Text(0, 0.5, 'Education')"
      ]
     },
     "execution_count": 808,
     "metadata": {},
     "output_type": "execute_result"
    },
    {
     "data": {
      "image/png": "[encoded data removed]",
      "text/plain": [
       "<Figure size 432x288 with 1 Axes>"
      ]
     },
     "metadata": {
      "needs_background": "light"
     },
     "output_type": "display_data"
    }
   ],
   "source": [
    "%matplotlib inline\n",
    "pd.crosstab(income_c['income'],income_c['education']).plot(kind='bar')\n",
    "plt.title('income and Education')\n",
    "plt.xlabel('income')\n",
    "plt.ylabel('Education')"
   ]
  },
  {
   "cell_type": "markdown",
   "metadata": {},
   "source": [
    "## Creating Dummy Variables"
   ]
  },
  {
   "cell_type": "code",
   "execution_count": 778,
   "metadata": {},
   "outputs": [],
   "source": [
    "#Creting an array of column names which are to be converted to factors\n",
    "factors = ['workclass', 'marital-status', 'occupation', 'relationship', 'race', 'sex', 'native-country', 'income']"
   ]
  },
  {
   "cell_type": "code",
   "execution_count": 779,
   "metadata": {},
   "outputs": [
    {
     "data": {
      "text/plain": [
       "Index(['age', 'fnlwgt', 'education', 'capital-gain', 'capital-loss',\n",
       "       'hours-per-week', 'income', 'workclass_Federal-gov',\n",
       "       'workclass_Local-gov', 'workclass_No Pay/Job', 'workclass_Private',\n",
       "       'workclass_Self-emp-inc', 'workclass_Self-emp-not-inc',\n",
       "       'workclass_State-gov', 'marital-status_Divorced',\n",
       "       'marital-status_Married', 'marital-status_Never-married',\n",
       "       'marital-status_Separated', 'marital-status_Widowed',\n",
       "       'occupation_Adm-clerical', 'occupation_Craft-repair',\n",
       "       'occupation_Exec-managerial', 'occupation_Farming-fishing',\n",
       "       'occupation_Handlers-cleaners', 'occupation_Machine-op-inspct',\n",
       "       'occupation_Other-service', 'occupation_Prof-specialty',\n",
       "       'occupation_Sales', 'occupation_Tech-support',\n",
       "       'occupation_Transport-moving', 'relationship_Husband',\n",
       "       'relationship_Not-in-family', 'relationship_Other-relative',\n",
       "       'relationship_Own-child', 'relationship_Unmarried', 'relationship_Wife',\n",
       "       'race_Asian-Pac-Islander', 'race_Black', 'race_Other', 'race_White',\n",
       "       'sex_Female', 'sex_Male', 'native-country_Rest',\n",
       "       'native-country_United-States'],\n",
       "      dtype='object')"
      ]
     },
     "execution_count": 779,
     "metadata": {},
     "output_type": "execute_result"
    }
   ],
   "source": [
    "for var in factors:\n",
    "    if var != 'income':\n",
    "        cat_list='var'+'_'+var\n",
    "        cat_list = pd.get_dummies(income_c[var], prefix=var)\n",
    "        income_c = pd.concat([income_c,cat_list], axis = 1)\n",
    "        income_c = income_c.drop(var, 1)\n",
    "income_c.columns"
   ]
  },
  {
   "cell_type": "code",
   "execution_count": 803,
   "metadata": {},
   "outputs": [
    {
     "data": {
      "text/plain": [
       "Text(0, 0.5, 'Education')"
      ]
     },
     "execution_count": 803,
     "metadata": {},
     "output_type": "execute_result"
    },
    {
     "data": {
      "image/png": "[encoded data removed]",
      "text/plain": [
       "<Figure size 432x288 with 1 Axes>"
      ]
     },
     "metadata": {
      "needs_background": "light"
     },
     "output_type": "display_data"
    }
   ],
   "source": [
    "%matplotlib inline\n",
    "pd.crosstab(income_c['race_White'],income_c['education']).plot(kind='bar')\n",
    "plt.title('Race and Education')\n",
    "plt.xlabel('Race')\n",
    "plt.ylabel('Education')"
   ]
  },
  {
   "cell_type": "code",
   "execution_count": 780,
   "metadata": {},
   "outputs": [],
   "source": [
    "#Dropping one dummy variable from each categorical var\n",
    "income_c=income_c.drop(['race_Other','sex_Male','native-country_Rest','relationship_Unmarried',\n",
    "                      'occupation_Other-service','workclass_No Pay/Job','marital-status_Never-married'],axis=1)"
   ]
  },
  {
   "cell_type": "markdown",
   "metadata": {},
   "source": [
    "# Test-Training Set Split and Fitting"
   ]
  },
  {
   "cell_type": "code",
   "execution_count": 781,
   "metadata": {},
   "outputs": [
    {
     "data": {
      "text/plain": [
       "LogisticRegression(C=1.0, class_weight=None, dual=False, fit_intercept=True,\n",
       "          intercept_scaling=1, max_iter=100, multi_class='warn',\n",
       "          n_jobs=None, penalty='l2', random_state=None, solver='lbfgs',\n",
       "          tol=0.0001, verbose=0, warm_start=False)"
      ]
     },
     "execution_count": 781,
     "metadata": {},
     "output_type": "execute_result"
    }
   ],
   "source": [
    "\n",
    "#70% records being sent into training set \n",
    "income_c['income'] = income_c['income'].factorize()[0]\n",
    "pts = np.random.rand(len(income_c)) < 0.7\n",
    "\n",
    "income_train = income_c[pts]\n",
    "income_test = income_c[~pts]\n",
    "\n",
    "#Prepping the training set\n",
    "X_train = income_train.copy()\n",
    "X_train = X_train.drop('income', 1)\n",
    "Y_train = income_train['income']\n",
    "\n",
    "#Prepping the test set\n",
    "X_test = income_test.copy()\n",
    "X_test = X_test.drop('income', 1)\n",
    "Y_test = income_test['income']\n",
    "\n",
    "#FULL MODEL - all variables w/o scaling and feature selection\n",
    "#fitting the model\n",
    "from sklearn.linear_model import LogisticRegression\n",
    "logreg = LogisticRegression(solver='lbfgs')\n",
    "logreg.fit(X_train, Y_train)"
   ]
  },
  {
   "cell_type": "code",
   "execution_count": 648,
   "metadata": {},
   "outputs": [
    {
     "name": "stdout",
     "output_type": "stream",
     "text": [
      "[[7120  278]\n",
      " [1724  624]]\n",
      "accuracy score 0.7945823927765236\n",
      "f1_score 0.384\n"
     ]
    },
    {
     "data": {
      "image/png": "[encoded data removed]",
      "text/plain": [
       "<Figure size 432x288 with 2 Axes>"
      ]
     },
     "metadata": {
      "needs_background": "light"
     },
     "output_type": "display_data"
    }
   ],
   "source": [
    "#generating confusion matrix\n",
    "#generating confusion matrix\n",
    "X_test = income_test.copy()\n",
    "X_test = X_test.drop('income', 1)\n",
    "Y_test = income_test['income']\n",
    "Y_pred = logreg.predict(X_test)\n",
    "\n",
    "#Confusion matrix\n",
    "from sklearn.metrics import confusion_matrix\n",
    "cm = confusion_matrix(Y_test, Y_pred)\n",
    "sns.heatmap(cm, annot=True)\n",
    "print(cm)\n",
    "\n",
    "#Testing set accuracy\n",
    "from sklearn.metrics import accuracy_score\n",
    "print('accuracy score',accuracy_score(Y_test, Y_pred))\n",
    "\n",
    "#Precision=True positive / (True positive + False positive)\n",
    "#Recall=True positive / (True positive + False negative)\n",
    "#F1 is the harmonic mean of precision and recall\n",
    "from sklearn.metrics import f1_score\n",
    "print('f1_score',f1_score(Y_test, Y_pred))"
   ]
  },
  {
   "cell_type": "markdown",
   "metadata": {},
   "source": [
    "## Feature Scaling (Standardization)\n",
    "\n",
    "Capital gains and capital losses have wide range\n",
    "<br>Similarly, scale for age and other quantities are also varying \n",
    "<br>We are getting convergence warning on using feature selection methods like RFE and RandomForest Classifier\n",
    "<br>As we are not using our model for interpretation but prediction of log odds,\n",
    "<br>To resolve, all of the above we are standardizing our dataset"
   ]
  },
  {
   "cell_type": "code",
   "execution_count": 782,
   "metadata": {},
   "outputs": [
    {
     "name": "stderr",
     "output_type": "stream",
     "text": [
      "C:\\Users\\shali\\Anaconda3\\lib\\site-packages\\sklearn\\preprocessing\\data.py:645: DataConversionWarning: Data with input dtype uint8, int64, object were all converted to float64 by StandardScaler.\n",
      "  return self.partial_fit(X, y)\n",
      "C:\\Users\\shali\\Anaconda3\\lib\\site-packages\\sklearn\\base.py:464: DataConversionWarning: Data with input dtype uint8, int64, object were all converted to float64 by StandardScaler.\n",
      "  return self.fit(X, **fit_params).transform(X)\n",
      "C:\\Users\\shali\\Anaconda3\\lib\\site-packages\\ipykernel_launcher.py:7: DataConversionWarning: Data with input dtype uint8, int64, object were all converted to float64 by StandardScaler.\n",
      "  import sys\n"
     ]
    }
   ],
   "source": [
    "from sklearn.preprocessing import StandardScaler\n",
    "sc_X=StandardScaler()\n",
    "#Normalizing the training set \n",
    "X_train_sc=pd.DataFrame(sc_X.fit_transform(X_train))\n",
    "X_train_sc.columns=X_train.columns\n",
    "#Normalizing the test set\n",
    "X_test_sc=pd.DataFrame(sc_X.transform(X_test))\n",
    "X_test_sc.columns=X_test.columns"
   ]
  },
  {
   "cell_type": "markdown",
   "metadata": {},
   "source": [
    "## Feature Selection\n",
    "<h4> 1. RFE(Recursive Feature Elimination)</h4>"
   ]
  },
  {
   "cell_type": "code",
   "execution_count": 783,
   "metadata": {},
   "outputs": [
    {
     "name": "stdout",
     "output_type": "stream",
     "text": [
      "Num Features: 18\n",
      "Selected Features: [ True False  True  True  True  True  True  True  True  True  True  True\n",
      " False  True False False False False  True  True False False False False\n",
      " False False  True False False  True  True False False False  True False]\n",
      "Feature Ranking: [ 1 17  1  1  1  1  1  1  1  1  1  1  2  1 12  9  8  6  1  1 10 19  4  5\n",
      "  3 16  1 13 18  1  1 15 14 11  1  7]\n"
     ]
    }
   ],
   "source": [
    "target=Y_train\n",
    "# feature extraction\n",
    "from sklearn.feature_selection import RFE\n",
    "model = LogisticRegression(solver='lbfgs')\n",
    "rfe = RFE(model)\n",
    "fit = rfe.fit(X_train_sc, target)\n",
    "print(\"Num Features: %d\" % fit.n_features_)\n",
    "print(\"Selected Features: %s\" % fit.support_)\n",
    "print(\"Feature Ranking: %s\" % fit.ranking_)\n",
    "\n",
    "#Creating a training set with important features\n",
    "X_train_rfe=X_train_sc[X_train_sc.columns[fit.support_]]\n",
    "#Creating a test set with important features\n",
    "X_test_rfe=X_test_sc[X_test_sc.columns[fit.support_]]"
   ]
  },
  {
   "cell_type": "code",
   "execution_count": 784,
   "metadata": {},
   "outputs": [
    {
     "name": "stdout",
     "output_type": "stream",
     "text": [
      "[[6920  505]\n",
      " [1032 1341]]\n",
      "accuracy score 0.8431312512757706\n",
      "f1_score 0.6356956624792605\n"
     ]
    },
    {
     "data": {
      "image/png": "[encoded data removed]",
      "text/plain": [
       "<Figure size 432x288 with 1 Axes>"
      ]
     },
     "metadata": {
      "needs_background": "light"
     },
     "output_type": "display_data"
    }
   ],
   "source": [
    "from sklearn.linear_model import LogisticRegression\n",
    "logreg = LogisticRegression(solver='lbfgs')\n",
    "logreg.fit(X_train_rfe, Y_train)\n",
    "Y_pred_rfe = logreg.predict(X_test_rfe)\n",
    "\n",
    "from sklearn.metrics import confusion_matrix\n",
    "cm = confusion_matrix(Y_test, Y_pred_rfe)\n",
    "sns.heatmap(cm,annot=True,cbar=False)\n",
    "plt.ylabel('True Label')\n",
    "plt.xlabel('Predicted Label')\n",
    "plt.title('Confusion Matrix')\n",
    "print(cm)\n",
    "\n",
    "#Testing set accuracy\n",
    "from sklearn.metrics import accuracy_score\n",
    "print('accuracy score',accuracy_score(Y_test, Y_pred_rfe))\n",
    "\n",
    "#Precision=True positive / (True positive + False positive)\n",
    "#Recall=True positive / (True positive + False negative)\n",
    "#F1 is the harmonic mean of precision and recall\n",
    "from sklearn.metrics import f1_score\n",
    "print('f1_score',f1_score(Y_test, Y_pred_rfe))"
   ]
  },
  {
   "cell_type": "markdown",
   "metadata": {},
   "source": [
    "<h4>2. RFECV(Recursive Feature Elimination with Cross-Fold Validation)</h4>"
   ]
  },
  {
   "cell_type": "code",
   "execution_count": 785,
   "metadata": {},
   "outputs": [
    {
     "name": "stderr",
     "output_type": "stream",
     "text": [
      "C:\\Users\\shali\\Anaconda3\\lib\\site-packages\\sklearn\\preprocessing\\data.py:645: DataConversionWarning: Data with input dtype uint8, int64, object were all converted to float64 by StandardScaler.\n",
      "  return self.partial_fit(X, y)\n",
      "C:\\Users\\shali\\Anaconda3\\lib\\site-packages\\sklearn\\base.py:464: DataConversionWarning: Data with input dtype uint8, int64, object were all converted to float64 by StandardScaler.\n",
      "  return self.fit(X, **fit_params).transform(X)\n",
      "C:\\Users\\shali\\Anaconda3\\lib\\site-packages\\ipykernel_launcher.py:7: DataConversionWarning: Data with input dtype uint8, int64, object were all converted to float64 by StandardScaler.\n",
      "  import sys\n"
     ]
    }
   ],
   "source": [
    "from sklearn.preprocessing import StandardScaler\n",
    "sc_X=StandardScaler()\n",
    "#Normalizing the training set \n",
    "X_train_sc=pd.DataFrame(sc_X.fit_transform(X_train))\n",
    "X_train_sc.columns=X_train.columns\n",
    "#Normalizing the test set\n",
    "X_test_sc=pd.DataFrame(sc_X.transform(X_test))\n",
    "X_test_sc.columns=X_test.columns\n",
    "\n",
    "logreg = LogisticRegression(solver='lbfgs')\n",
    "\n",
    "from sklearn.feature_selection import RFECV\n",
    "rfecv = RFECV(estimator=logreg,  cv=4, scoring='accuracy')\n",
    "rfecv=rfecv.fit(X_train_sc, Y_train)"
   ]
  },
  {
   "cell_type": "code",
   "execution_count": 786,
   "metadata": {},
   "outputs": [
    {
     "name": "stdout",
     "output_type": "stream",
     "text": [
      "Optimal number of features: 32\n",
      "Number of features selected: 32\n",
      "Test Accuracy 0.844049806082874\n"
     ]
    }
   ],
   "source": [
    "print('Optimal number of features: {}'.format(rfecv.n_features_))\n",
    "cols = X_train_sc.columns[rfecv.support_]\n",
    "acc = accuracy_score(Y_test, rfecv.estimator_.predict(X_test_sc[cols]))\n",
    "print('Number of features selected: {}'.format(rfecv.n_features_))\n",
    "print('Test Accuracy {}'.format(acc))"
   ]
  },
  {
   "cell_type": "code",
   "execution_count": 787,
   "metadata": {},
   "outputs": [
    {
     "data": {
      "image/png": "[encoded data removed]",
      "text/plain": [
       "<Figure size 1152x648 with 1 Axes>"
      ]
     },
     "metadata": {
      "needs_background": "light"
     },
     "output_type": "display_data"
    }
   ],
   "source": [
    "plt.figure(figsize=(16, 9))\n",
    "plt.title('Recursive Feature Elimination with Cross-Validation', fontsize=18, fontweight='bold', pad=20)\n",
    "plt.xlabel('Number of features selected', fontsize=14, labelpad=20)\n",
    "plt.ylabel('% Correct Classification', fontsize=14, labelpad=20)\n",
    "plt.plot(range(1, len(rfecv.grid_scores_) + 1), rfecv.grid_scores_, color='#303F9F', linewidth=3)\n",
    "\n",
    "plt.show()"
   ]
  },
  {
   "cell_type": "markdown",
   "metadata": {},
   "source": [
    "## Linear Regression (Q5,6)\n",
    "<h4>Q5.</h4>Use the income dataset to regress work hours on the rest of the data. Compare the R^2 with R^2 of another model that you fit with only the significant variables. Explore some interaction terms and explain why they were of interest."
   ]
  },
  {
   "cell_type": "code",
   "execution_count": 849,
   "metadata": {},
   "outputs": [],
   "source": [
    "#70% records being sent into training set \n",
    "income_c['hours-per-week'] = income_c['hours-per-week'].factorize()[0]\n",
    "pts = np.random.rand(len(income_c)) < 0.7\n",
    "\n",
    "Wh_train = income_c[pts]\n",
    "Wh_test = income_c[~pts]\n",
    "\n",
    "#Prepping the training set\n",
    "X_train = Wh_train.copy()\n",
    "X_train = Wh_train.drop('hours-per-week', 1)\n",
    "Y_train = Wh_train['hours-per-week']\n",
    "\n",
    "#Prepping the test set\n",
    "X_test = Wh_test.copy()\n",
    "X_test = Wh_test.drop('hours-per-week', 1)\n",
    "Y_test = Wh_test['hours-per-week']"
   ]
  },
  {
   "attachments": {
    "image.png": {
     "image/png": "[encoded data removed]"
    }
   },
   "cell_type": "markdown",
   "metadata": {},
   "source": [
    "https://www.statsmodels.org/dev/generated/statsmodels.regression.linear_model.OLS.html> ![image.png](attachment:image.png)\n",
    "#No constant is added by the model unless you are using formulas in ols"
   ]
  },
  {
   "cell_type": "code",
   "execution_count": 850,
   "metadata": {},
   "outputs": [
    {
     "name": "stdout",
     "output_type": "stream",
     "text": [
      "                            OLS Regression Results                            \n",
      "==============================================================================\n",
      "Dep. Variable:                      y   R-squared:                       0.040\n",
      "Model:                            OLS   Adj. R-squared:                  0.038\n",
      "Method:                 Least Squares   F-statistic:                     26.05\n",
      "Date:                Thu, 16 Jan 2020   Prob (F-statistic):          1.00e-169\n",
      "Time:                        22:23:02   Log-Likelihood:                -89622.\n",
      "No. Observations:               22795   AIC:                         1.793e+05\n",
      "Df Residuals:                   22758   BIC:                         1.796e+05\n",
      "Df Model:                          36                                         \n",
      "Covariance Type:            nonrobust                                         \n",
      "================================================================================================\n",
      "                                   coef    std err          t      P>|t|      [0.025      0.975]\n",
      "------------------------------------------------------------------------------------------------\n",
      "const                            7.3360      3.207      2.287      0.022       1.050      13.622\n",
      "age                              0.0580      0.008      7.505      0.000       0.043       0.073\n",
      "fnlwgt                       -2.225e-06   7.97e-07     -2.791      0.005   -3.79e-06   -6.62e-07\n",
      "education                       -0.1556      0.051     -3.078      0.002      -0.255      -0.057\n",
      "capital-gain                  1.433e-05   1.17e-05      1.226      0.220   -8.59e-06    3.73e-05\n",
      "capital-loss                     0.0002      0.000      0.926      0.354      -0.000       0.001\n",
      "income                          -0.5776      0.238     -2.426      0.015      -1.044      -0.111\n",
      "workclass_Federal-gov           -3.3097      3.131     -1.057      0.290      -9.447       2.827\n",
      "workclass_Local-gov             -1.7776      3.112     -0.571      0.568      -7.877       4.322\n",
      "workclass_Private               -0.7937      3.095     -0.256      0.798      -6.861       5.273\n",
      "workclass_Self-emp-inc           1.0549      3.127      0.337      0.736      -5.075       7.185\n",
      "workclass_Self-emp-not-inc       1.8862      3.106      0.607      0.544      -4.202       7.974\n",
      "workclass_State-gov             -0.3674      3.122     -0.118      0.906      -6.486       5.751\n",
      "marital-status_Divorced         -1.0254      0.306     -3.355      0.001      -1.625      -0.426\n",
      "marital-status_Married          -0.7969      0.606     -1.315      0.188      -1.985       0.391\n",
      "marital-status_Separated        -0.5281      0.507     -1.041      0.298      -1.522       0.466\n",
      "marital-status_Widowed           2.7349      0.557      4.911      0.000       1.643       3.826\n",
      "occupation_Adm-clerical         -3.3526      0.341     -9.839      0.000      -4.020      -2.685\n",
      "occupation_Craft-repair         -4.2546      0.344    -12.382      0.000      -4.928      -3.581\n",
      "occupation_Exec-managerial      -2.5660      0.350     -7.325      0.000      -3.253      -1.879\n",
      "occupation_Farming-fishing       0.6475      0.547      1.184      0.236      -0.424       1.719\n",
      "occupation_Handlers-cleaners    -2.3940      0.469     -5.100      0.000      -3.314      -1.474\n",
      "occupation_Machine-op-inspct    -4.9795      0.411    -12.128      0.000      -5.784      -4.175\n",
      "occupation_Prof-specialty       -0.5923      0.325     -1.825      0.068      -1.228       0.044\n",
      "occupation_Sales                -1.1198      0.349     -3.210      0.001      -1.804      -0.436\n",
      "occupation_Tech-support         -2.4561      0.552     -4.452      0.000      -3.537      -1.375\n",
      "occupation_Transport-moving     -2.2791      0.446     -5.108      0.000      -3.154      -1.405\n",
      "relationship_Husband             0.6441      0.669      0.963      0.336      -0.667       1.955\n",
      "relationship_Not-in-family       0.4071      0.319      1.277      0.202      -0.218       1.032\n",
      "relationship_Other-relative      0.2791      0.562      0.496      0.620      -0.823       1.381\n",
      "relationship_Own-child           2.4141      0.375      6.431      0.000       1.678       3.150\n",
      "relationship_Wife                1.4667      0.742      1.977      0.048       0.013       2.920\n",
      "race_Asian-Pac-Islander          0.6675      0.778      0.857      0.391      -0.858       2.193\n",
      "race_Black                      -0.4851      0.673     -0.721      0.471      -1.805       0.835\n",
      "race_White                       0.7804      0.623      1.252      0.210      -0.441       2.002\n",
      "sex_Female                       1.1362      0.244      4.655      0.000       0.658       1.615\n",
      "native-country_United-States     0.3476      0.322      1.078      0.281      -0.284       0.980\n",
      "==============================================================================\n",
      "Omnibus:                    12468.445   Durbin-Watson:                   1.987\n",
      "Prob(Omnibus):                  0.000   Jarque-Bera (JB):            88858.229\n",
      "Skew:                           2.612   Prob(JB):                         0.00\n",
      "Kurtosis:                      11.140   Cond. No.                     2.17e+07\n",
      "==============================================================================\n",
      "\n",
      "Warnings:\n",
      "[1] Standard Errors assume that the covariance matrix of the errors is correctly specified.\n",
      "[2] The condition number is large, 2.17e+07. This might indicate that there are\n",
      "strong multicollinearity or other numerical problems.\n"
     ]
    }
   ],
   "source": [
    "#FULL MODEL - all variables w/o scaling and feature selection\n",
    "#fitting the model\n",
    "#No constant is added by the model unless you are using formulas\n",
    "import statsmodels.api as sm\n",
    "\n",
    "#Adding constant for beta-zero(intercept)\n",
    "X_train=sm.add_constant(X_train)\n",
    "model=sm.OLS(list(Y_train),X_train.astype(float))\n",
    "results=model.fit()\n",
    "print(results.summary())"
   ]
  },
  {
   "cell_type": "code",
   "execution_count": 852,
   "metadata": {},
   "outputs": [
    {
     "name": "stdout",
     "output_type": "stream",
     "text": [
      "                            OLS Regression Results                            \n",
      "==============================================================================\n",
      "Dep. Variable:                      y   R-squared:                       0.033\n",
      "Model:                            OLS   Adj. R-squared:                  0.032\n",
      "Method:                 Least Squares   F-statistic:                     48.08\n",
      "Date:                Thu, 16 Jan 2020   Prob (F-statistic):          1.04e-150\n",
      "Time:                        22:23:34   Log-Likelihood:                -89704.\n",
      "No. Observations:               22795   AIC:                         1.794e+05\n",
      "Df Residuals:                   22778   BIC:                         1.796e+05\n",
      "Df Model:                          16                                         \n",
      "Covariance Type:            nonrobust                                         \n",
      "================================================================================================\n",
      "                                   coef    std err          t      P>|t|      [0.025      0.975]\n",
      "------------------------------------------------------------------------------------------------\n",
      "const                            7.1751      0.497     14.447      0.000       6.202       8.149\n",
      "age                              0.0540      0.007      7.521      0.000       0.040       0.068\n",
      "fnlwgt                       -2.673e-06   7.88e-07     -3.390      0.001   -4.22e-06   -1.13e-06\n",
      "education                       -0.2347      0.045     -5.237      0.000      -0.323      -0.147\n",
      "workclass_Private               -0.6825      0.200     -3.419      0.001      -1.074      -0.291\n",
      "marital-status_Divorced         -0.8553      0.253     -3.384      0.001      -1.351      -0.360\n",
      "marital-status_Widowed           2.9210      0.517      5.650      0.000       1.908       3.934\n",
      "occupation_Adm-clerical         -3.2479      0.276    -11.772      0.000      -3.789      -2.707\n",
      "occupation_Craft-repair         -3.8050      0.277    -13.727      0.000      -4.348      -3.262\n",
      "occupation_Exec-managerial      -2.1215      0.265     -8.020      0.000      -2.640      -1.603\n",
      "occupation_Handlers-cleaners    -2.0971      0.429     -4.884      0.000      -2.939      -1.255\n",
      "occupation_Machine-op-inspct    -4.6374      0.363    -12.768      0.000      -5.349      -3.925\n",
      "occupation_Tech-support         -2.2488      0.509     -4.420      0.000      -3.246      -1.252\n",
      "occupation_Transport-moving     -1.9623      0.400     -4.901      0.000      -2.747      -1.177\n",
      "relationship_Own-child           2.3497      0.256      9.166      0.000       1.847       2.852\n",
      "race_White                       1.1648      0.235      4.961      0.000       0.705       1.625\n",
      "sex_Female                       1.2369      0.202      6.122      0.000       0.841       1.633\n",
      "==============================================================================\n",
      "Omnibus:                    12513.429   Durbin-Watson:                   1.987\n",
      "Prob(Omnibus):                  0.000   Jarque-Bera (JB):            89740.068\n",
      "Skew:                           2.622   Prob(JB):                         0.00\n",
      "Kurtosis:                      11.185   Cond. No.                     1.55e+06\n",
      "==============================================================================\n",
      "\n",
      "Warnings:\n",
      "[1] Standard Errors assume that the covariance matrix of the errors is correctly specified.\n",
      "[2] The condition number is large, 1.55e+06. This might indicate that there are\n",
      "strong multicollinearity or other numerical problems.\n"
     ]
    }
   ],
   "source": [
    "#Dropping most insignificant columns\n",
    "#Race_white is the prominent feature, other races are insignificant\n",
    "#Only widowed seems to be significant enough in marital-status\n",
    "#Capital-loss and capital -gain gave insignificant results as they have high p-values\n",
    "#Income is also highly insignificant\n",
    "#occupation-Farming-Fishing and Prof-Specialty have very high p-value (insignificant)\n",
    "\n",
    "X_train_new=X_train\n",
    "X_train_new=X_train_new.drop(['capital-gain','capital-loss','income',\n",
    "                              'marital-status_Married','marital-status_Separated',\n",
    "                             'occupation_Prof-specialty','occupation_Farming-fishing','occupation_Sales',\n",
    "                              'race_Asian-Pac-Islander','race_Black',\n",
    "                             'relationship_Wife','relationship_Husband','relationship_Other-relative',\n",
    "                             'relationship_Not-in-family','native-country_United-States',\n",
    "                             'workclass_Federal-gov','workclass_Local-gov',\n",
    "                              'workclass_Self-emp-inc','workclass_Self-emp-not-inc','workclass_State-gov']\n",
    "                             ,1)\n",
    "import statsmodels.formula.api as sm\n",
    "model2=sm.OLS(list(Y_train),X_train_new.astype(float))\n",
    "results=model2.fit()\n",
    "print(results.summary())"
   ]
  },
  {
   "cell_type": "code",
   "execution_count": 853,
   "metadata": {},
   "outputs": [
    {
     "name": "stdout",
     "output_type": "stream",
     "text": [
      "                            OLS Regression Results                            \n",
      "==============================================================================\n",
      "Dep. Variable:                      y   R-squared:                       0.033\n",
      "Model:                            OLS   Adj. R-squared:                  0.032\n",
      "Method:                 Least Squares   F-statistic:                     45.25\n",
      "Date:                Thu, 16 Jan 2020   Prob (F-statistic):          6.99e-150\n",
      "Time:                        22:24:42   Log-Likelihood:                -89704.\n",
      "No. Observations:               22795   AIC:                         1.794e+05\n",
      "Df Residuals:                   22777   BIC:                         1.796e+05\n",
      "Df Model:                          17                                         \n",
      "Covariance Type:            nonrobust                                         \n",
      "================================================================================================\n",
      "                                   coef    std err          t      P>|t|      [0.025      0.975]\n",
      "------------------------------------------------------------------------------------------------\n",
      "const                            7.0654      0.600     11.777      0.000       5.890       8.241\n",
      "age                              0.0540      0.007      7.527      0.000       0.040       0.068\n",
      "fnlwgt                       -2.671e-06   7.89e-07     -3.387      0.001   -4.22e-06   -1.13e-06\n",
      "education                       -0.2008      0.113     -1.770      0.077      -0.423       0.022\n",
      "workclass_Private               -0.6808      0.200     -3.409      0.001      -1.072      -0.289\n",
      "marital-status_Divorced         -0.8565      0.253     -3.388      0.001      -1.352      -0.361\n",
      "marital-status_Widowed           2.9194      0.517      5.646      0.000       1.906       3.933\n",
      "occupation_Adm-clerical         -3.2510      0.276    -11.776      0.000      -3.792      -2.710\n",
      "occupation_Craft-repair         -3.8085      0.277    -13.729      0.000      -4.352      -3.265\n",
      "occupation_Exec-managerial      -2.1222      0.265     -8.022      0.000      -2.641      -1.604\n",
      "occupation_Handlers-cleaners    -2.0985      0.429     -4.886      0.000      -2.940      -1.257\n",
      "occupation_Machine-op-inspct    -4.6375      0.363    -12.768      0.000      -5.349      -3.926\n",
      "occupation_Tech-support         -2.2523      0.509     -4.426      0.000      -3.250      -1.255\n",
      "occupation_Transport-moving     -1.9646      0.400     -4.906      0.000      -2.750      -1.180\n",
      "relationship_Own-child           2.3493      0.256      9.164      0.000       1.847       2.852\n",
      "race_White                       1.2894      0.449      2.874      0.004       0.410       2.169\n",
      "sex_Female                       1.2378      0.202      6.126      0.000       0.842       1.634\n",
      "edu*race                        -0.0393      0.121     -0.326      0.744      -0.275       0.197\n",
      "==============================================================================\n",
      "Omnibus:                    12512.596   Durbin-Watson:                   1.987\n",
      "Prob(Omnibus):                  0.000   Jarque-Bera (JB):            89721.680\n",
      "Skew:                           2.621   Prob(JB):                         0.00\n",
      "Kurtosis:                      11.184   Cond. No.                     1.89e+06\n",
      "==============================================================================\n",
      "\n",
      "Warnings:\n",
      "[1] Standard Errors assume that the covariance matrix of the errors is correctly specified.\n",
      "[2] The condition number is large, 1.89e+06. This might indicate that there are\n",
      "strong multicollinearity or other numerical problems.\n"
     ]
    }
   ],
   "source": [
    "#Adding an interaction term for education and race\n",
    "X_train_new['edu*race']=X_train['race_White']*X_train['education']\n",
    "#dropping the previous interaction term -race*sex\n",
    "#dropping the previous interaction term -age*sex\n",
    "\n",
    "import statsmodels.formula.api as sm\n",
    "model2=sm.OLS(list(Y_train),X_train_new.astype(float))\n",
    "results=model2.fit()\n",
    "print(results.summary())"
   ]
  },
  {
   "cell_type": "code",
   "execution_count": 858,
   "metadata": {},
   "outputs": [
    {
     "name": "stdout",
     "output_type": "stream",
     "text": [
      "                            OLS Regression Results                            \n",
      "==============================================================================\n",
      "Dep. Variable:                      y   R-squared:                       0.033\n",
      "Model:                            OLS   Adj. R-squared:                  0.032\n",
      "Method:                 Least Squares   F-statistic:                     45.81\n",
      "Date:                Thu, 16 Jan 2020   Prob (F-statistic):          7.81e-152\n",
      "Time:                        22:28:45   Log-Likelihood:                -89700.\n",
      "No. Observations:               22795   AIC:                         1.794e+05\n",
      "Df Residuals:                   22777   BIC:                         1.796e+05\n",
      "Df Model:                          17                                         \n",
      "Covariance Type:            nonrobust                                         \n",
      "================================================================================================\n",
      "                                   coef    std err          t      P>|t|      [0.025      0.975]\n",
      "------------------------------------------------------------------------------------------------\n",
      "const                            8.4115      0.641     13.114      0.000       7.154       9.669\n",
      "age                              0.0242      0.012      1.990      0.047       0.000       0.048\n",
      "fnlwgt                       -2.723e-06   7.89e-07     -3.453      0.001   -4.27e-06   -1.18e-06\n",
      "education                       -0.6260      0.136     -4.601      0.000      -0.893      -0.359\n",
      "workclass_Private               -0.6734      0.200     -3.374      0.001      -1.065      -0.282\n",
      "marital-status_Divorced         -0.8612      0.253     -3.408      0.001      -1.356      -0.366\n",
      "marital-status_Widowed           3.0053      0.518      5.806      0.000       1.991       4.020\n",
      "occupation_Adm-clerical         -3.2296      0.276    -11.705      0.000      -3.770      -2.689\n",
      "occupation_Craft-repair         -3.8026      0.277    -13.720      0.000      -4.346      -3.259\n",
      "occupation_Exec-managerial      -2.1177      0.264     -8.007      0.000      -2.636      -1.599\n",
      "occupation_Handlers-cleaners    -2.1521      0.430     -5.008      0.000      -2.994      -1.310\n",
      "occupation_Machine-op-inspct    -4.6476      0.363    -12.798      0.000      -5.359      -3.936\n",
      "occupation_Tech-support         -2.1923      0.509     -4.307      0.000      -3.190      -1.195\n",
      "occupation_Transport-moving     -1.9492      0.400     -4.869      0.000      -2.734      -1.164\n",
      "relationship_Own-child           2.2712      0.258      8.817      0.000       1.766       2.776\n",
      "race_White                       1.1531      0.235      4.912      0.000       0.693       1.613\n",
      "sex_Female                       1.2565      0.202      6.217      0.000       0.860       1.653\n",
      "age*edu                          0.0094      0.003      3.046      0.002       0.003       0.016\n",
      "==============================================================================\n",
      "Omnibus:                    12513.639   Durbin-Watson:                   1.987\n",
      "Prob(Omnibus):                  0.000   Jarque-Bera (JB):            89769.534\n",
      "Skew:                           2.621   Prob(JB):                         0.00\n",
      "Kurtosis:                      11.187   Cond. No.                     1.81e+06\n",
      "==============================================================================\n",
      "\n",
      "Warnings:\n",
      "[1] Standard Errors assume that the covariance matrix of the errors is correctly specified.\n",
      "[2] The condition number is large, 1.81e+06. This might indicate that there are\n",
      "strong multicollinearity or other numerical problems.\n"
     ]
    }
   ],
   "source": [
    "#The interaction term is highly insignificant\n",
    "X_train_new=X_train_new.drop('edu*race',1)\n",
    "#creating an interaction term for age and education\n",
    "X_train_new['age*edu']=X_train['age']*X_train['education']\n",
    "\n",
    "import statsmodels.formula.api as sm\n",
    "model2=sm.OLS(list(Y_train),X_train_new.astype(float))\n",
    "results=model2.fit()\n",
    "print(results.summary())"
   ]
  },
  {
   "cell_type": "markdown",
   "metadata": {},
   "source": [
    "<h4>Conclusion:</h4>\n",
    "As, all the variables except 'age' turned out to be significant. We stopped our process here. We need more features to further improve our model because much of our variation is explained by our intercept ( as can be seen by our high beta-zero coefficient). The existing set of features are significant but not enough."
   ]
  },
  {
   "cell_type": "markdown",
   "metadata": {},
   "source": [
    "<h4>Q6.</h4>Regress work hours of only people who are working in Sales. Once you fit a reasonable (as per your judgement) model for this data, compare the R^2 with the ones you calculated for Question 5. Explain your findings."
   ]
  },
  {
   "cell_type": "code",
   "execution_count": 860,
   "metadata": {},
   "outputs": [
    {
     "name": "stdout",
     "output_type": "stream",
     "text": [
      "                            OLS Regression Results                            \n",
      "==============================================================================\n",
      "Dep. Variable:                      y   R-squared:                       0.028\n",
      "Model:                            OLS   Adj. R-squared:                  0.026\n",
      "Method:                 Least Squares   F-statistic:                     10.62\n",
      "Date:                Thu, 16 Jan 2020   Prob (F-statistic):           6.06e-18\n",
      "Time:                        22:49:31   Log-Likelihood:                -13963.\n",
      "No. Observations:                3650   AIC:                         2.795e+04\n",
      "Df Residuals:                    3639   BIC:                         2.802e+04\n",
      "Df Model:                          10                                         \n",
      "Covariance Type:            nonrobust                                         \n",
      "================================================================================================\n",
      "                                   coef    std err          t      P>|t|      [0.025      0.975]\n",
      "------------------------------------------------------------------------------------------------\n",
      "const                           12.6212      1.487      8.491      0.000       9.707      15.536\n",
      "age                             -0.0198      0.029     -0.678      0.498      -0.077       0.037\n",
      "fnlwgt                       -1.577e-06   1.78e-06     -0.885      0.376   -5.07e-06    1.92e-06\n",
      "education                       -1.0402      0.310     -3.352      0.001      -1.649      -0.432\n",
      "workclass_Private               -1.0656      0.497     -2.143      0.032      -2.041      -0.091\n",
      "marital-status_Divorced         -1.3831      0.602     -2.299      0.022      -2.563      -0.203\n",
      "marital-status_Widowed           0.2705      1.204      0.225      0.822      -2.089       2.630\n",
      "occupation_Adm-clerical        1.57e-16   5.37e-17      2.921      0.004    5.16e-17    2.62e-16\n",
      "occupation_Craft-repair      -5.739e-16   2.51e-16     -2.284      0.022   -1.07e-15   -8.13e-17\n",
      "occupation_Exec-managerial    4.435e-16   6.04e-17      7.338      0.000    3.25e-16    5.62e-16\n",
      "occupation_Handlers-cleaners   5.39e-17   7.25e-18      7.438      0.000    3.97e-17    6.81e-17\n",
      "occupation_Machine-op-inspct          0          0        nan        nan           0           0\n",
      "occupation_Tech-support               0          0        nan        nan           0           0\n",
      "occupation_Transport-moving           0          0        nan        nan           0           0\n",
      "relationship_Own-child           2.9808      0.554      5.385      0.000       1.896       4.066\n",
      "race_White                      -0.7473      0.589     -1.270      0.204      -1.901       0.407\n",
      "sex_Female                       1.5634      0.439      3.561      0.000       0.703       2.424\n",
      "age*edu                          0.0159      0.007      2.133      0.033       0.001       0.030\n",
      "==============================================================================\n",
      "Omnibus:                     1693.729   Durbin-Watson:                   2.062\n",
      "Prob(Omnibus):                  0.000   Jarque-Bera (JB):             8467.120\n",
      "Skew:                           2.242   Prob(JB):                         0.00\n",
      "Kurtosis:                       8.963   Cond. No.                     1.07e+39\n",
      "==============================================================================\n",
      "\n",
      "Warnings:\n",
      "[1] Standard Errors assume that the covariance matrix of the errors is correctly specified.\n",
      "[2] The smallest eigenvalue is 1.5e-64. This might indicate that there are\n",
      "strong multicollinearity problems or that the design matrix is singular.\n"
     ]
    },
    {
     "name": "stderr",
     "output_type": "stream",
     "text": [
      "C:\\Users\\shali\\Anaconda3\\lib\\site-packages\\ipykernel_launcher.py:4: SettingWithCopyWarning: \n",
      "A value is trying to be set on a copy of a slice from a DataFrame.\n",
      "Try using .loc[row_indexer,col_indexer] = value instead\n",
      "\n",
      "See the caveats in the documentation: http://pandas.pydata.org/pandas-docs/stable/indexing.html#indexing-view-versus-copy\n",
      "  after removing the cwd from sys.path.\n"
     ]
    }
   ],
   "source": [
    "#Filtering for people who are working in Sales\n",
    "#70% records being sent into training set\n",
    "income_s=income_c.loc[income_c['occupation_Sales'] == 1]\n",
    "income_s['hours-per-week'] = income_s['hours-per-week'].factorize()[0]\n",
    "\n",
    "#Prepping the training set\n",
    "X_sales = income_s.copy()\n",
    "X_sales = income_s.drop('hours-per-week', 1)\n",
    "Y_sales = income_s['hours-per-week']\n",
    "\n",
    "\n",
    "#Dropping columns as per our final model\n",
    "X_sales=X_sales.drop(['capital-gain','capital-loss','income',\n",
    "                              'marital-status_Married','marital-status_Separated',\n",
    "                             'occupation_Prof-specialty','occupation_Farming-fishing','occupation_Sales',\n",
    "                              'race_Asian-Pac-Islander','race_Black',\n",
    "                             'relationship_Wife','relationship_Husband','relationship_Other-relative',\n",
    "                             'relationship_Not-in-family','native-country_United-States',\n",
    "                             'workclass_Federal-gov','workclass_Local-gov',\n",
    "                              'workclass_Self-emp-inc','workclass_Self-emp-not-inc','workclass_State-gov'],1)\n",
    "\n",
    "#adding the interaction term for education & age\n",
    "X_sales['age*edu']=X_sales['education']*X_sales['age']\n",
    "\n",
    "#Running our model\n",
    "import statsmodels.api as sm\n",
    "#adding a constant for beta-zero(intercept)\n",
    "X_sales=sm.add_constant(X_sales)\n",
    "model_sales=sm.OLS(list(Y_sales),X_sales.astype(float))\n",
    "results=model_sales.fit()\n",
    "print(results.summary())"
   ]
  },
  {
   "cell_type": "code",
   "execution_count": 861,
   "metadata": {},
   "outputs": [
    {
     "name": "stdout",
     "output_type": "stream",
     "text": [
      "                            OLS Regression Results                            \n",
      "==============================================================================\n",
      "Dep. Variable:                      y   R-squared:                       0.028\n",
      "Model:                            OLS   Adj. R-squared:                  0.026\n",
      "Method:                 Least Squares   F-statistic:                     10.62\n",
      "Date:                Thu, 16 Jan 2020   Prob (F-statistic):           6.06e-18\n",
      "Time:                        22:51:38   Log-Likelihood:                -13963.\n",
      "No. Observations:                3650   AIC:                         2.795e+04\n",
      "Df Residuals:                    3639   BIC:                         2.802e+04\n",
      "Df Model:                          10                                         \n",
      "Covariance Type:            nonrobust                                         \n",
      "===============================================================================================\n",
      "                                  coef    std err          t      P>|t|      [0.025      0.975]\n",
      "-----------------------------------------------------------------------------------------------\n",
      "const                          12.6212      1.487      8.491      0.000       9.707      15.536\n",
      "age                            -0.0198      0.029     -0.678      0.498      -0.077       0.037\n",
      "fnlwgt                      -1.577e-06   1.78e-06     -0.885      0.376   -5.07e-06    1.92e-06\n",
      "education                      -1.0402      0.310     -3.352      0.001      -1.649      -0.432\n",
      "workclass_Private              -1.0656      0.497     -2.143      0.032      -2.041      -0.091\n",
      "marital-status_Divorced        -1.3831      0.602     -2.299      0.022      -2.563      -0.203\n",
      "marital-status_Widowed          0.2705      1.204      0.225      0.822      -2.089       2.630\n",
      "occupation_Transport-moving  6.483e-16   2.48e-16      2.613      0.009    1.62e-16    1.13e-15\n",
      "relationship_Own-child          2.9808      0.554      5.385      0.000       1.896       4.066\n",
      "race_White                     -0.7473      0.589     -1.270      0.204      -1.901       0.407\n",
      "sex_Female                      1.5634      0.439      3.561      0.000       0.703       2.424\n",
      "age*edu                         0.0159      0.007      2.133      0.033       0.001       0.030\n",
      "==============================================================================\n",
      "Omnibus:                     1693.729   Durbin-Watson:                   2.062\n",
      "Prob(Omnibus):                  0.000   Jarque-Bera (JB):             8467.120\n",
      "Skew:                           2.242   Prob(JB):                         0.00\n",
      "Kurtosis:                       8.963   Cond. No.                     7.87e+22\n",
      "==============================================================================\n",
      "\n",
      "Warnings:\n",
      "[1] Standard Errors assume that the covariance matrix of the errors is correctly specified.\n",
      "[2] The smallest eigenvalue is 2.78e-32. This might indicate that there are\n",
      "strong multicollinearity problems or that the design matrix is singular.\n"
     ]
    }
   ],
   "source": [
    "#Trying another model for sales people\n",
    "\n",
    "#Removing other occupations as we have selected only those working in Sales -they are hardly making any difference\n",
    "#Going with the assumption that government roles doesn't involve sales role(or very few)\n",
    "#having it as separate variables won't add much value to the model\n",
    "X_sales=X_sales.drop(['occupation_Adm-clerical','occupation_Craft-repair',\n",
    "                    'occupation_Exec-managerial','occupation_Handlers-cleaners',\n",
    "                    'occupation_Machine-op-inspct','occupation_Tech-support'],1)\n",
    "import statsmodels.api as sm\n",
    "model_sales=sm.OLS(list(Y_sales),X_sales.astype(float))\n",
    "results=model_sales.fit()\n",
    "print(results.summary())\n"
   ]
  },
  {
   "cell_type": "code",
   "execution_count": 862,
   "metadata": {},
   "outputs": [
    {
     "name": "stdout",
     "output_type": "stream",
     "text": [
      "                            OLS Regression Results                            \n",
      "==============================================================================\n",
      "Dep. Variable:                      y   R-squared:                       0.026\n",
      "Model:                            OLS   Adj. R-squared:                  0.024\n",
      "Method:                 Least Squares   F-statistic:                     15.98\n",
      "Date:                Thu, 16 Jan 2020   Prob (F-statistic):           3.24e-18\n",
      "Time:                        22:55:02   Log-Likelihood:                -13968.\n",
      "No. Observations:                3650   AIC:                         2.795e+04\n",
      "Df Residuals:                    3643   BIC:                         2.799e+04\n",
      "Df Model:                           6                                         \n",
      "Covariance Type:            nonrobust                                         \n",
      "===============================================================================================\n",
      "                                  coef    std err          t      P>|t|      [0.025      0.975]\n",
      "-----------------------------------------------------------------------------------------------\n",
      "const                          11.1445      0.597     18.664      0.000       9.974      12.315\n",
      "education                      -0.4192      0.103     -4.059      0.000      -0.622      -0.217\n",
      "workclass_Private              -1.3684      0.480     -2.849      0.004      -2.310      -0.427\n",
      "marital-status_Divorced        -1.1991      0.590     -2.031      0.042      -2.357      -0.041\n",
      "marital-status_Widowed          0.6913      1.137      0.608      0.543      -1.538       2.921\n",
      "occupation_Transport-moving  3.792e-16    3.8e-16      0.997      0.319   -3.66e-16    1.12e-15\n",
      "relationship_Own-child          2.7486      0.500      5.497      0.000       1.768       3.729\n",
      "sex_Female                      1.4933      0.431      3.468      0.001       0.649       2.338\n",
      "==============================================================================\n",
      "Omnibus:                     1704.958   Durbin-Watson:                   2.061\n",
      "Prob(Omnibus):                  0.000   Jarque-Bera (JB):             8597.853\n",
      "Skew:                           2.257   Prob(JB):                         0.00\n",
      "Kurtosis:                       9.014   Cond. No.                     3.01e+19\n",
      "==============================================================================\n",
      "\n",
      "Warnings:\n",
      "[1] Standard Errors assume that the covariance matrix of the errors is correctly specified.\n",
      "[2] The smallest eigenvalue is 6.79e-35. This might indicate that there are\n",
      "strong multicollinearity problems or that the design matrix is singular.\n"
     ]
    }
   ],
   "source": [
    "#Checking the model on further removal of insignificant variables\n",
    "X_sales=X_sales.drop(['race_White','fnlwgt','age','age*edu'],1)#,'fnlwgt','race_White','education'],1)\n",
    "import statsmodels.formula.api as sm\n",
    "model_sales=sm.OLS(list(Y_sales),X_sales.astype(float))\n",
    "results=model_sales.fit()\n",
    "print(results.summary())"
   ]
  },
  {
   "cell_type": "markdown",
   "metadata": {},
   "source": [
    "On further removing insignificant variable, more and more variables turned out to be insignificant. Our R-squared is very low and unstable to use this model even for interpretation. \n",
    "<br>We need extra information to further explain the variation in work-hours."
   ]
  }
 ],
 "metadata": {
  "kernelspec": {
   "display_name": "Python 3",
   "language": "python",
   "name": "python3"
  },
  "language_info": {
   "codemirror_mode": {
    "name": "ipython",
    "version": 3
   },
   "file_extension": ".py",
   "mimetype": "text/x-python",
   "name": "python",
   "nbconvert_exporter": "python",
   "pygments_lexer": "ipython3",
   "version": "3.7.3"
  }
 },
 "nbformat": 4,
 "nbformat_minor": 2
}
